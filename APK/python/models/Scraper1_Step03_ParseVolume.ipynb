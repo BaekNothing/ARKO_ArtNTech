{
 "cells": [
  {
   "cell_type": "markdown",
   "metadata": {},
   "source": [
    "# NeoLook Scraper\n",
    "* 2022.07.19a\n"
   ]
  },
  {
   "cell_type": "markdown",
   "metadata": {},
   "source": [
    "## Step03: HTML 문서 분석하기"
   ]
  },
  {
   "cell_type": "markdown",
   "metadata": {},
   "source": [
    "### 저장해 둔 Archive List 읽기"
   ]
  },
  {
   "cell_type": "code",
   "execution_count": 2,
   "metadata": {},
   "outputs": [
    {
     "name": "stdout",
     "output_type": "stream",
     "text": [
      "47154\n",
      "['20220629f', '20220630a', '20220630b', '20220630c', '20220630d', '20220630e', '20220630f', '20220630g', '20220630h', '20220630i']\n"
     ]
    }
   ],
   "source": [
    "def readList(fileName):\n",
    "    with open(fileName, 'r') as f: \n",
    "        lines = []  \n",
    "        for line in f:\n",
    "            #print(line)\n",
    "            lines.append(line.rstrip())\n",
    "        return lines\n",
    "    print(len(lines)) \n",
    "       \n",
    "list = readList(\"archivesList/total.txt\")\n",
    "print(len(list))\n",
    "print(list[-10:])"
   ]
  },
  {
   "cell_type": "code",
   "execution_count": 8,
   "metadata": {},
   "outputs": [
    {
     "name": "stdout",
     "output_type": "stream",
     "text": [
      "htmls/1989/19891106a.htm\n"
     ]
    }
   ],
   "source": [
    "def getHtmlText(fileName):\n",
    "    dir = fileName[:4]\n",
    "    file = fileName[4:]\n",
    "    path = \"htmls/\" + dir + \"/\" + fileName + \".htm\"\n",
    "    print(path)\n",
    "    with open(path, 'r', encoding='utf-8') as f: \n",
    "        return f.read()\n",
    "\n",
    "\n",
    "text = getHtmlText(list[0])\n",
    "#print(text)\n",
    "\n",
    "#testList = ['20220602a', '20220602c', '20220603i', '20220601b'] #개인전, 그룹전, 그룹전, 저널"
   ]
  },
  {
   "cell_type": "code",
   "execution_count": 71,
   "metadata": {},
   "outputs": [],
   "source": [
    "from bs4 import BeautifulSoup as bs\n",
    "import re\n",
    "import random # debug 용"
   ]
  },
  {
   "cell_type": "code",
   "execution_count": 832,
   "metadata": {},
   "outputs": [
    {
     "name": "stdout",
     "output_type": "stream",
     "text": [
      "htmls/2000/20001109a.htm\n",
      "정규호展 / photography\n",
      "type = solo , genre = photography\n"
     ]
    }
   ],
   "source": [
    "xtra = [\"개인\", \"회화\", \"조각\", \"사진\", \"영상\", \"설치\", \"수묵\", \"서예\", \"드로잉\", \"판화\", \"도예\"]\n",
    "xtraDic = {\"개인\":\"solo\", \"회화\":\"painting\", \"조각\":\"sculpture\", \"사진\":\"photography\", \"영상\":\"video\", \"설치\":\"installation\", \"수묵\":\"painting\", \"서예\":\"calligrapht\", \"드로잉\":\"drawing\", \"판화\":\"printing\", \"도예\":\"ceramic\"}\n",
    "\n",
    "def getTypeGenre(whichVolumePage):\n",
    "    soup = bs(whichVolumePage, \"html.parser\")\n",
    "    volumeTag = soup.find(class_=\"tag\") #페이지 하단 하얀 박스에 표기된 정보\n",
    "    volumeTag = volumeTag.contents[2].strip()\n",
    "    print(volumeTag)\n",
    "\n",
    "    type = \"\"\n",
    "    genre = \"\"\n",
    "    #if(\"展\" in volumeTag):\n",
    "    if((\"展\" in volumeTag or volumeTag[-1] == \"전\" or volumeTag[-1] == \"제\") and not (\"조각회展\" in volumeTag)):\n",
    "        #volumeTag = volumeTag.split(\"/\")\n",
    "        if(len(volumeTag.split(\"/\"))>1):\n",
    "            type = \"solo\"\n",
    "            #print(\"solo\")\n",
    "            genre = volumeTag.split(\"/\")[-1].strip()            \n",
    "        elif(len(volumeTag.split(\" \"))>=2 and (volumeTag.split(\" \")[1][-1] == \"展\")):\n",
    "            #print(\"xtra?\")\n",
    "            type = \"group\"\n",
    "            #print(\"xtra group\")\n",
    "            genre = \"group\"           \n",
    "            for item in xtra:\n",
    "                last = volumeTag.split(\" \")[-1]\n",
    "                #print(\"item:\", item, \", last:\", last)\n",
    "                if(item in last):\n",
    "                    type = \"solo\"\n",
    "                    #print(\"xtra solo\")\n",
    "                    #genre = volumeTag.split(\" \")[1]\n",
    "                    #genre = genre[:-1]\n",
    "                    key = item\n",
    "                    #print(\"key =\", key)\n",
    "                    genre = xtraDic[key]\n",
    "                    break              \n",
    "                '''\n",
    "                else:\n",
    "                    type = \"group\"\n",
    "                    print(\"xtra group\")\n",
    "                    genre = \"group\"\n",
    "                    break\n",
    "                '''\n",
    "        else:\n",
    "            type = \"group\"\n",
    "            genre = \"group\"\n",
    "            print(\"group\")\n",
    "    else:\n",
    "        print(\"NOT exhibition\") \n",
    "        type = \"NA\" \n",
    "        genre = \"NA\"\n",
    "    #print(\"type:\", type)    \n",
    "    #print(\"genre:\", genre)\n",
    "    return type, genre\n",
    "\n",
    "htmlText = getHtmlText(list[random.randrange(0, 10000)])\n",
    "type, genre = getTypeGenre(htmlText)\n",
    "print(\"type =\", type, \", genre =\", genre)"
   ]
  },
  {
   "cell_type": "code",
   "execution_count": 797,
   "metadata": {},
   "outputs": [
    {
     "name": "stdout",
     "output_type": "stream",
     "text": [
      "htmls/2003/20030224a.htm\n",
      "volumeTag: 영 페미니스트 미술가 연대 기획展\n",
      "title: Anti Araki\n"
     ]
    }
   ],
   "source": [
    "def getTitle(whichVolumePage):\n",
    "    soup = bs(whichVolumePage, \"html.parser\")\n",
    "    volumeTag = soup.find(class_=\"tag\") #페이지 하단 하얀 박스에 표기된 정보\n",
    "    volumeTag = volumeTag.contents[2].strip()\n",
    "    print(\"volumeTag:\", volumeTag)\n",
    "    title = \"\"\n",
    "    h1 = soup.find(\"h1\")\n",
    "    h2 = soup.find(\"h2\")\n",
    "    if(h1 != None):\n",
    "        title = h1.text.strip()        \n",
    "    else:\n",
    "        title = h2.text.strip()\n",
    "    print(\"title:\",title)  \n",
    "    return title\n",
    "\n",
    "htmlText = getHtmlText(list[random.randrange(0, 10000)])\n",
    "title = getTitle(htmlText)"
   ]
  },
  {
   "cell_type": "code",
   "execution_count": 807,
   "metadata": {},
   "outputs": [
    {
     "name": "stdout",
     "output_type": "stream",
     "text": [
      "htmls/2006/20060807d.htm\n",
      "도영준 개인展\n",
      "개인展\n",
      "['도영준']\n"
     ]
    }
   ],
   "source": [
    "#import re\n",
    "\n",
    "def getSoloArtist(whichVolumePage):\n",
    "    soup = bs(whichVolumePage, \"html.parser\")\n",
    "    volumeTag = soup.find(class_=\"tag\") #페이지 하단 하얀 박스에 표기된 정보\n",
    "    volumeTag = volumeTag.contents[2].strip()\n",
    "    print(volumeTag)\n",
    "\n",
    "    artists = []\n",
    "    tags = volumeTag.split(\"/\")    \n",
    "    if(len(tags) >= 2 and tags[0].strip()[-1] == \"展\"):\n",
    "        print(\"parsed\")\n",
    "        artist = tags[0].strip()[:-1]\n",
    "        artists.append(artist)\n",
    "        #print(artists) \n",
    "    \n",
    "    tags = volumeTag.split(\" \")  \n",
    "    if(len(tags) >= 2 and tags[-1][-1].strip() == \"展\"):\n",
    "        artist = tags[0].strip()\n",
    "        artists.append(artist)\n",
    "        print(tags[-1]) \n",
    "    \n",
    "    return artists\n",
    "\n",
    "htmlText = getHtmlText(list[random.randrange(0, 10000)])\n",
    "artists = getSoloArtist(htmlText)\n",
    "print(artists)"
   ]
  },
  {
   "cell_type": "code",
   "execution_count": 818,
   "metadata": {},
   "outputs": [
    {
     "name": "stdout",
     "output_type": "stream",
     "text": [
      "htmls/2008/20080325e.htm\n",
      "내면풍경_innerscape展 / painting\n",
      "['윤상윤', '박상희', '박상희', '윤상윤', '윤상윤']\n"
     ]
    }
   ],
   "source": [
    "#import re\n",
    "\n",
    "def getGroupArtist(whichVolumePage):\n",
    "    soup = bs(whichVolumePage, \"html.parser\")\n",
    "    volumeTag = soup.find(class_=\"tag\") #페이지 하단 하얀 박스에 표기된 정보\n",
    "    volumeTag = volumeTag.contents[2].strip()\n",
    "    print(volumeTag)\n",
    "\n",
    "    artists = []\n",
    "    description = soup.find(class_=\"archives-description\")\n",
    "    dd = description.find_all(\"dd\")\n",
    "    #print(len(dd)) #캡션의 수 출력\n",
    "    for child in dd:\n",
    "        #print(child.text)\n",
    "        if(len(child.text) > 1):\n",
    "            artists.append(re.split(\" |_\", child.text.strip())[0])\n",
    "    print(artists)\n",
    "    return artists\n",
    "\n",
    "htmlText = getHtmlText(list[random.randrange(0, 10000)])\n",
    "artists = getGroupArtist(htmlText)"
   ]
  },
  {
   "cell_type": "code",
   "execution_count": 340,
   "metadata": {},
   "outputs": [
    {
     "name": "stdout",
     "output_type": "stream",
     "text": [
      "htmls/2006/20061203a.htm\n",
      "차혜림 회화展\n",
      "\n"
     ]
    }
   ],
   "source": [
    "#import re\n",
    "extraGenre = [\"개인\", \"화화\", \"조각\", \"목조각\", \"사진\", \"영상\", \"사진.영상\", \"설치영상\"]\n",
    "\n",
    "def getGenre(whichVolumePage):\n",
    "    soup = bs(whichVolumePage, \"html.parser\")\n",
    "    volumeTag = soup.find(class_=\"tag\") #페이지 하단 하얀 박스에 표기된 정보\n",
    "    volumeTag = volumeTag.contents[2].strip()\n",
    "    print(volumeTag)\n",
    "\n",
    "    genre = \"\"\n",
    "    if(\"展\" in volumeTag or volumeTag[-1] == \"전\"):\n",
    "        #isExhibition = True\n",
    "        #print(\"exhibition\")\n",
    "        tag = volumeTag.split(\"/\")\n",
    "        #tag = re.split(\" |/\", volumeTag.strip())\n",
    "        if(len(tag)>1):\n",
    "            genre = tag[-1].strip()            \n",
    "        else:\n",
    "            #print(tag.contents[2].strip())\n",
    "            for item in extraGenre:\n",
    "                #print(item)\n",
    "                \n",
    "                if(item in volumeTag):\n",
    "                    print(\"extra:\", item)\n",
    "                    genre = item \n",
    "                #break                             \n",
    "    else:\n",
    "        genre = \"NA\" \n",
    "        \n",
    "    if(\"공모\" in volumeTag):\n",
    "        genre = \"NA\"\n",
    "    print(genre)\n",
    "    return genre\n",
    "\n",
    "\n",
    "htmlText = getHtmlText(list[random.randrange(0, 10000)])\n",
    "genre = getGenre(htmlText)"
   ]
  },
  {
   "cell_type": "code",
   "execution_count": null,
   "metadata": {},
   "outputs": [],
   "source": [
    "import re\n",
    "\n",
    "def getGenre(whichVolumePage):\n",
    "    soup = bs(whichVolumePage, \"html.parser\")\n",
    "    volumeTag = soup.find(class_=\"tag\") #페이지 하단 하얀 박스에 표기된 정보\n",
    "    #result = result.div.h2.span.text\n",
    "    volumeTag = volumeTag.contents[2].strip()\n",
    "    print(volumeTag)\n",
    "\n",
    "    type = \"\"\n",
    "    title = \"\"\n",
    "    genre = \"\"\n",
    "    if(\"展\" in volumeTag):\n",
    "        #isExhibition = True\n",
    "        #print(\"exhibition\")\n",
    "        volumeTag = volumeTag.split(\"/\")\n",
    "        if(len(volumeTag)>1):\n",
    "            type = \"solo\"\n",
    "            print(\"solo\")\n",
    "            genre = volumeTag[-1].strip()            \n",
    "        else:\n",
    "            type = \"group\"\n",
    "            genre = \"group\"\n",
    "            print(\"group\")\n",
    "    else:\n",
    "        print(\"NOT exhibition\") \n",
    "        type = \"etc\" \n",
    "    print(genre)\n",
    "\n",
    "    artists = []\n",
    "    if(type == \"solo\"):\n",
    "        artist = volumeTag[0].strip()\n",
    "        artists.append(artist[:-1])\n",
    "        print(artists)\n",
    "    elif(type == \"group\"):\n",
    "        description = soup.find(class_=\"archives-description\")\n",
    "        dd = description.find_all(\"dd\")\n",
    "        print(len(dd)) #캡션의 수 출력\n",
    "        for child in dd:\n",
    "            #print(child.text.strip().split(\"_\")[0])\n",
    "            #print(re.split(\" |_\", child.text.strip())[0])\n",
    "            artists.append(re.split(\" |_\", child.text.strip())[0])\n",
    "        print(artists)\n",
    "\n",
    "    return type, genre, artists\n",
    "\n",
    "testList = ['19891106b','20000120a','19991207a','19991005a','19970303a','19931126a','19930209a','19921013a','19921002a','19920901b', '19920505a', '19910309a', '20220602a', '20220602c', '20220603i', '20220601b'] #개인전, 그룹전, 그룹전, 저널\n",
    "htmlText = getHtmlText(\"htmls/\"+testList[0][:4]+\"/\"+testList[0]+\".htm\")\n",
    "#print(htmlText)\n",
    "type, genre, artists = getType(htmlText)\n",
    "print(\"\")"
   ]
  },
  {
   "cell_type": "code",
   "execution_count": 16,
   "metadata": {},
   "outputs": [
    {
     "name": "stdout",
     "output_type": "stream",
     "text": [
      "\n",
      "\n",
      "<span class=\"line\">\n",
      "          오윤_김진하_이인철_이상호展\n",
      "         </span>\n",
      "\n",
      "\n",
      "<span class=\"line\">\n",
      "</span>\n",
      "\n",
      "\n",
      "<span class=\"line\">\n",
      "          1989_1106 ▶ 1989_1208\n",
      "         </span>\n",
      "\n",
      "\n"
     ]
    },
    {
     "data": {
      "text/plain": [
       "<h2>\n",
       "<span class=\"line\">\n",
       "          오윤_김진하_이인철_이상호展\n",
       "         </span>\n",
       "<span class=\"line\">\n",
       "</span>\n",
       "<span class=\"line\">\n",
       "          1989_1106 ▶ 1989_1208\n",
       "         </span>\n",
       "</h2>"
      ]
     },
     "execution_count": 16,
     "metadata": {},
     "output_type": "execute_result"
    }
   ],
   "source": [
    "htmlText = getHtmlText(\"htmls/1989/19891106a.htm\")\n",
    "#print(htmlText)\n",
    "type = getType(htmlText)\n"
   ]
  }
 ],
 "metadata": {
  "kernelspec": {
   "display_name": "Python 3.9.13 ('VENV_ML')",
   "language": "python",
   "name": "python3"
  },
  "language_info": {
   "codemirror_mode": {
    "name": "ipython",
    "version": 3
   },
   "file_extension": ".py",
   "mimetype": "text/x-python",
   "name": "python",
   "nbconvert_exporter": "python",
   "pygments_lexer": "ipython3",
   "version": "3.9.13"
  },
  "orig_nbformat": 4,
  "vscode": {
   "interpreter": {
    "hash": "2119776425b636b8681063fda806616a1df2f36a2bf6c61274e31ea4b58a0a2b"
   }
  }
 },
 "nbformat": 4,
 "nbformat_minor": 2
}
