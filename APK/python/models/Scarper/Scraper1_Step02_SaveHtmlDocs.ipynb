{
 "cells": [
  {
   "cell_type": "markdown",
   "metadata": {},
   "source": [
    "# NeoLook Scraper\n",
    "* 2022.07.19a"
   ]
  },
  {
   "cell_type": "markdown",
   "metadata": {},
   "source": [
    "## Step02: Volume 페이지(HTML)을 로컬 컴퓨터에 저장하기"
   ]
  },
  {
   "cell_type": "markdown",
   "metadata": {},
   "source": [
    "### 저장해 둔 Archive List 읽기"
   ]
  },
  {
   "cell_type": "code",
   "execution_count": 20,
   "metadata": {},
   "outputs": [],
   "source": [
    "from bs4 import BeautifulSoup as bs\n",
    "import requests\n",
    "site = \"https://www.neolook.com/archives/\""
   ]
  },
  {
   "cell_type": "code",
   "execution_count": 21,
   "metadata": {},
   "outputs": [],
   "source": [
    "def readList(fileName):\n",
    "    with open(fileName, 'r') as f: \n",
    "        lines = []  \n",
    "        for line in f:\n",
    "            #print(line)\n",
    "            lines.append(line.rstrip())\n",
    "        return lines\n",
    "    print(len(lines))    \n",
    "\n",
    "testList = ['20220602a', '20220602c', '20220603i', '20220601b'] #개인전, 그룹전, 그룹전, 저널"
   ]
  },
  {
   "cell_type": "code",
   "execution_count": 22,
   "metadata": {},
   "outputs": [
    {
     "name": "stdout",
     "output_type": "stream",
     "text": [
      "https://www.neolook.com/archives/20220602a\n"
     ]
    }
   ],
   "source": [
    "def setVolumePageUrl(whichID):\n",
    "    url = site + whichID \n",
    "    return url \n",
    "\n",
    "print(setVolumePageUrl('20220602a')) #'20220602a'-->개인전"
   ]
  },
  {
   "cell_type": "code",
   "execution_count": 23,
   "metadata": {},
   "outputs": [
    {
     "name": "stdout",
     "output_type": "stream",
     "text": [
      "<Response [200]>\n"
     ]
    }
   ],
   "source": [
    "def getVolumePage(whichUrl):\n",
    "    return requests.get(whichUrl)\n",
    "\n",
    "print(getVolumePage(setVolumePageUrl('20220629f')))"
   ]
  },
  {
   "cell_type": "code",
   "execution_count": 24,
   "metadata": {},
   "outputs": [],
   "source": [
    "def getHtml(whichVolumePage):\n",
    "    soup = bs(whichVolumePage.text, \"html.parser\")\n",
    "    soup.prettify()\n",
    "    #soup.find(class_=\"mt-4.5 divide-y divide-dim-gray\")\n",
    "    #result = soup.find_all(\"li\", class_=\"py-1\")\n",
    "    #print(result)\n",
    "    #print(len(result))\n",
    "    #print(result[0])\n",
    "    #print(result[0].a[\"href\"])\n",
    "\n",
    "    #volumeList = []\n",
    "    #for volume in result:\n",
    "        #print(item.a[\"href\"])\n",
    "        #volumeList.append(volume.a[\"href\"])\n",
    "\n",
    "    return soup.prettify()"
   ]
  },
  {
   "cell_type": "code",
   "execution_count": 25,
   "metadata": {},
   "outputs": [],
   "source": [
    "def saveHtml(html, fileName):\n",
    "    with open(fileName, 'w', encoding='utf-8') as f:\n",
    "        f.write(html)"
   ]
  },
  {
   "cell_type": "code",
   "execution_count": 26,
   "metadata": {},
   "outputs": [
    {
     "name": "stdout",
     "output_type": "stream",
     "text": [
      "47154\n",
      "['20220629f', '20220630a', '20220630b', '20220630c', '20220630d', '20220630e', '20220630f', '20220630g', '20220630h', '20220630i']\n"
     ]
    }
   ],
   "source": [
    "list = readList(\"archivesList/total.txt\")\n",
    "print(len(list))\n",
    "print(list[-10:])"
   ]
  },
  {
   "cell_type": "code",
   "execution_count": 27,
   "metadata": {},
   "outputs": [
    {
     "name": "stdout",
     "output_type": "stream",
     "text": [
      "htmls/1991 = 2 , \tcum = 2\n",
      "htmls/1992 = 1 , \tcum = 3\n",
      "htmls/1993 = 13 , \tcum = 16\n",
      "htmls/1996 = 2 , \tcum = 18\n",
      "htmls/1997 = 1 , \tcum = 19\n",
      "htmls/1998 = 3 , \tcum = 22\n",
      "htmls/1999 = 1 , \tcum = 23\n",
      "htmls/2000 = 50 , \tcum = 73\n",
      "htmls/2001 = 225 , \tcum = 298\n",
      "htmls/2002 = 329 , \tcum = 627\n",
      "htmls/2003 = 480 , \tcum = 1107\n",
      "htmls/2004 = 728 , \tcum = 1835\n",
      "htmls/2005 = 947 , \tcum = 2782\n",
      "htmls/2006 = 1156 , \tcum = 3938\n",
      "htmls/2007 = 1553 , \tcum = 5491\n",
      "htmls/2008 = 2059 , \tcum = 7550\n",
      "htmls/2009 = 2567 , \tcum = 10117\n",
      "htmls/2010 = 2841 , \tcum = 12958\n",
      "htmls/2011 = 3056 , \tcum = 16014\n",
      "htmls/2012 = 3066 , \tcum = 19080\n",
      "htmls/2013 = 3104 , \tcum = 22184\n",
      "htmls/2014 = 2856 , \tcum = 25040\n",
      "htmls/2015 = 2911 , \tcum = 27951\n",
      "htmls/2016 = 2967 , \tcum = 30918\n",
      "htmls/2017 = 2808 , \tcum = 33726\n",
      "htmls/2018 = 2780 , \tcum = 36506\n",
      "htmls/2019 = 2748 , \tcum = 39254\n",
      "htmls/2020 = 2498 , \tcum = 41752\n",
      "htmls/2021 = 2168 , \tcum = 43920\n",
      "htmls/2022 = 2324 , \tcum = 46244\n",
      "total: 47154\n"
     ]
    }
   ],
   "source": [
    "import os \n",
    "currentYear = \"\"\n",
    "prevYear = \"\"\n",
    "path = \"htmls\"\n",
    "yearlyCounter = 0\n",
    "prevYearlyCounter = 0\n",
    "totalCounter = 0\n",
    "\n",
    "if(not os.path.exists(path+\"/total\")):\n",
    "    os.mkdir(path+\"/total\")\n",
    "\n",
    "for item in list:\n",
    "    currentYear = item[:4] #ID의 앞 4글자(연도)\n",
    "    if(currentYear != prevYear):\n",
    "        #print(currentYear)\n",
    "        subPath = path + '/' + currentYear\n",
    "        if(not os.path.exists(subPath)):\n",
    "            os.mkdir(subPath)\n",
    "        prevYearlyCounter = yearlyCounter\n",
    "        yearlyCounter = 0\n",
    "    if(yearlyCounter == 0 and currentYear != \"1989\"):\n",
    "        print(subPath, \"=\", prevYearlyCounter, \", \\tcum =\", totalCounter)\n",
    "        \n",
    "    result = getHtml(getVolumePage(setVolumePageUrl(item)))\n",
    "    saveHtml(result, subPath + \"/\" + item + \".htm\")\n",
    "    saveHtml(result, path + \"/total/\" + item + \".htm\")\n",
    "    yearlyCounter += 1\n",
    "    totalCounter += 1\n",
    "    prevYear = currentYear\n",
    "    \n",
    "\n",
    "print(\"total:\", totalCounter)\n"
   ]
  }
 ],
 "metadata": {
  "kernelspec": {
   "display_name": "Python 3.9.13 ('VENV_ML')",
   "language": "python",
   "name": "python3"
  },
  "language_info": {
   "codemirror_mode": {
    "name": "ipython",
    "version": 3
   },
   "file_extension": ".py",
   "mimetype": "text/x-python",
   "name": "python",
   "nbconvert_exporter": "python",
   "pygments_lexer": "ipython3",
   "version": "3.9.13"
  },
  "orig_nbformat": 4,
  "vscode": {
   "interpreter": {
    "hash": "2119776425b636b8681063fda806616a1df2f36a2bf6c61274e31ea4b58a0a2b"
   }
  }
 },
 "nbformat": 4,
 "nbformat_minor": 2
}
